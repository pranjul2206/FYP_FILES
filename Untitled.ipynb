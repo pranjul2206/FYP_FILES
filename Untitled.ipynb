{
 "cells": [
  {
   "cell_type": "code",
   "execution_count": 193,
   "metadata": {},
   "outputs": [],
   "source": [
    "import pandas as pd\n",
    "import matplotlib.pyplot as plt\n",
    "%matplotlib inline\n",
    "import os"
   ]
  },
  {
   "cell_type": "code",
   "execution_count": 211,
   "metadata": {
    "scrolled": true
   },
   "outputs": [
    {
     "name": "stdout",
     "output_type": "stream",
     "text": [
      "4 ['gesture1', 'gesture2', 'gesture3', 'gesture4']\n",
      "            x          y         z  target\n",
      "0    0.197594   5.754034  2.372139     0.0\n",
      "1    0.376806  20.849795  3.080536     0.0\n",
      "2    0.793960  11.482413  9.067761     0.0\n",
      "3    0.409075  10.412107  2.736081     0.0\n",
      "4    0.150527  18.498988  2.896833     0.0\n",
      "5    0.123556  18.252698  1.173776     0.0\n",
      "6    0.368771  11.403833  5.311722     0.0\n",
      "7    0.770277  18.888350  7.835598     0.0\n",
      "8    0.443984  17.049136  2.291970     0.0\n",
      "9    0.339881  22.086046  5.704643     0.0\n",
      "10   0.935866   7.588612  0.229899     1.0\n",
      "11   0.190591  16.098542  1.531036     1.0\n",
      "12   0.113107   5.111524  0.123198     1.0\n",
      "13   0.057540   4.228778  0.206473     1.0\n",
      "14   0.357251   9.020635  0.283675     1.0\n",
      "15   0.151321   7.711600  0.250473     1.0\n",
      "16   0.049272   6.101159  0.196820     1.0\n",
      "17   0.201458  13.197818  0.563370     1.0\n",
      "18   0.067561  11.713314  0.947226     1.0\n",
      "19   0.203090   8.406671  0.261376     1.0\n",
      "20   7.562354   0.171249  2.957071     2.0\n",
      "21   8.809581   0.031690  1.596838     2.0\n",
      "22   7.005394   0.099205  3.148637     2.0\n",
      "23  13.736571   0.016311  0.832722     2.0\n",
      "24   5.651947   0.076206  1.374914     2.0\n",
      "25  13.274227   0.019123  1.194842     2.0\n",
      "26   5.483543   0.094578  0.825498     2.0\n",
      "27   8.970043   0.022129  1.391709     2.0\n",
      "28   8.172639   0.019157  2.286364     2.0\n",
      "29   7.515326   0.018234  1.646896     2.0\n",
      "30   8.863858   0.046129  3.421775     3.0\n",
      "31   8.516067   0.086395  5.216618     3.0\n",
      "32   6.063051   0.029093  2.497567     3.0\n",
      "33   5.182804   0.022319  3.074941     3.0\n",
      "34   7.006859   0.138094  1.499732     3.0\n",
      "35   6.276104   0.189351  3.408240     3.0\n",
      "36   6.021715   0.077319  5.001670     3.0\n",
      "37   6.777885   0.027099  5.302513     3.0\n",
      "38   6.034874   2.627450  2.251033     3.0\n",
      "39   9.397307   0.042884  7.736375     3.0\n"
     ]
    }
   ],
   "source": [
    "dir=os.path.dirname(os.path.realpath('__file__')) #getting relative path\n",
    "dirname = os.path.join(dir, 'training') #moving to training dataset for all gestures\n",
    "list = os.listdir(dirname) #refrencing all files of dir into list\n",
    "number_files = len(list) #checking content length of list\n",
    "print (number_files,list)\n",
    "df=pd.DataFrame(columns=[\"x\",\"y\",\"z\",\"target\"]) #dataframe which will have x,y,z variance of all gestures\n",
    "for i in range(len(list)): #looping into each gesture\n",
    "    f = open(list[i]+\".txt\", \"a\")\n",
    "    subdir=os.path.join(dirname, list[i]) #moving to the data of each iteration of geature\n",
    "    list1 = os.listdir(subdir)\n",
    "    for j in range(len(list1)): #looping the training data\n",
    "        file=os.path.join(subdir, list1[j])\n",
    "        data = pd.read_csv(file, sep=\" \", header=None) #reading traing data txt file: values seperated by space->dataframe\n",
    "        data.columns = [\"x\", \"y\", \"z\", \"time\"] #defining columns names\n",
    "        #calculating variance, formula: summation(x**2)/total_elents- (mean**2)\n",
    "        meanx=data[\"x\"].sum()/len(data)\n",
    "        meany=data[\"y\"].sum()/len(data)\n",
    "        meanz=data[\"z\"].sum()/len(data)\n",
    "        b={\"x\":(((data[\"x\"]*data[\"x\"]).sum()/len(data))-(meanx*meanx)),\n",
    "           \"y\":(((data[\"y\"]*data[\"y\"]).sum()/len(data))-(meany*meany)),\n",
    "           \"z\":(((data[\"z\"]*data[\"z\"]).sum()/len(data))-(meanz*meanz)),\n",
    "           \"target\":i} #target_id for each gesture using i\n",
    "        f.write(str(((data[\"x\"]*data[\"x\"]).sum()/len(data))-(meanx*meanx))+\" \"+\n",
    "                str(((data[\"y\"]*data[\"y\"]).sum()/len(data))-(meany*meany))+\" \"+\n",
    "                str(((data[\"z\"]*data[\"z\"]).sum()/len(data))-(meanz*meanz)))\n",
    "        f.write(\"\\n\")\n",
    "        df=df.append(b,ignore_index=True)\n",
    "    f.close()\n",
    "print(df)\n"
   ]
  },
  {
   "cell_type": "code",
   "execution_count": 195,
   "metadata": {},
   "outputs": [],
   "source": [
    "from sklearn.model_selection import train_test_split "
   ]
  },
  {
   "cell_type": "code",
   "execution_count": 196,
   "metadata": {},
   "outputs": [],
   "source": [
    "X=df.drop(columns=\"target\",axis=1) #seperating variance and target\n",
    "Y=df[\"target\"]\n",
    "X_train, X_test, y_train, y_test = train_test_split(X, Y, test_size=0.2) #splitting 80% to train and 2% to test"
   ]
  },
  {
   "cell_type": "code",
   "execution_count": 197,
   "metadata": {},
   "outputs": [
    {
     "name": "stdout",
     "output_type": "stream",
     "text": [
      "[1. 2. 1. 1. 3. 0. 3. 1.]\n"
     ]
    },
    {
     "name": "stderr",
     "output_type": "stream",
     "text": [
      "c:\\users\\pranjul\\appdata\\local\\programs\\python\\python37\\lib\\site-packages\\sklearn\\svm\\base.py:193: FutureWarning: The default value of gamma will change from 'auto' to 'scale' in version 0.22 to account better for unscaled features. Set gamma explicitly to 'auto' or 'scale' to avoid this warning.\n",
      "  \"avoid this warning.\", FutureWarning)\n"
     ]
    }
   ],
   "source": [
    "from sklearn.svm import SVC\n",
    "svc=SVC()\n",
    "svc.fit(X_train,y_train) #training\n",
    "pred=svc.predict(X_test) #predict\n",
    "print(pred)"
   ]
  },
  {
   "cell_type": "code",
   "execution_count": 198,
   "metadata": {},
   "outputs": [
    {
     "name": "stdout",
     "output_type": "stream",
     "text": [
      "1.0\n"
     ]
    }
   ],
   "source": [
    "from sklearn.metrics import accuracy_score\n",
    "print (accuracy_score(y_test, pred)) #i dont know how 100% acc. , it changes with train_test_split"
   ]
  },
  {
   "cell_type": "code",
   "execution_count": 199,
   "metadata": {},
   "outputs": [
    {
     "name": "stdout",
     "output_type": "stream",
     "text": [
      "predictions= [0.]\n"
     ]
    }
   ],
   "source": [
    "dfff=pd.DataFrame(columns=[\"x\",\"y\",\"z\"])\n",
    "bb1={\"x\":0.19759445783211277,\"y\":5.754033670139477,\"z\":2.3721391751385843} #testing with my own variances\n",
    "dfff=dfff.append(bb1,ignore_index=True)\n",
    "pred2=svc.predict(dfff)\n",
    "print(\"predictions=\",pred2) #prediction gesture1"
   ]
  },
  {
   "cell_type": "code",
   "execution_count": 201,
   "metadata": {},
   "outputs": [],
   "source": [
    "import pickle\n",
    "with open('model_pickle','wb') as f:\n",
    "    pickle.dump(svc,f)\n",
    "    "
   ]
  },
  {
   "cell_type": "code",
   "execution_count": null,
   "metadata": {},
   "outputs": [],
   "source": []
  }
 ],
 "metadata": {
  "kernelspec": {
   "display_name": "Python 3",
   "language": "python",
   "name": "python3"
  },
  "language_info": {
   "codemirror_mode": {
    "name": "ipython",
    "version": 3
   },
   "file_extension": ".py",
   "mimetype": "text/x-python",
   "name": "python",
   "nbconvert_exporter": "python",
   "pygments_lexer": "ipython3",
   "version": "3.7.3"
  }
 },
 "nbformat": 4,
 "nbformat_minor": 2
}
