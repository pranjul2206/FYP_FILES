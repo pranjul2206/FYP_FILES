{
 "cells": [
  {
   "cell_type": "code",
   "execution_count": 1,
   "metadata": {},
   "outputs": [],
   "source": [
    "import pandas as pd\n",
    "from sklearn.utils import shuffle\n",
    "import matplotlib.pyplot as plt\n",
    "%matplotlib inline\n",
    "from mpl_toolkits import mplot3d\n",
    "import statistics"
   ]
  },
  {
   "cell_type": "code",
   "execution_count": null,
   "metadata": {},
   "outputs": [],
   "source": []
  },
  {
   "cell_type": "code",
   "execution_count": 2,
   "metadata": {},
   "outputs": [
    {
     "name": "stdout",
     "output_type": "stream",
     "text": [
      "0.2030831927718937 5.913867938754464 2.438031930003545\n",
      "0.820425152428097 11.865159955604257 9.370019553677762\n",
      "0.43313790969803406 11.024583434361336 2.8970265187277984\n",
      "0.1559029271731309 19.159666507652688 3.000291463199108\n",
      "0.12781627685748573 18.882101613942023 1.214250558220235\n",
      "0.38352176326701076 11.85998598393798 5.5241910247415325\n",
      "0.7823126871144914 19.183480970407413 7.958028841261701\n",
      "0.45743755056454855 17.565776452203174 2.3614231822051814\n",
      "0.35606613807357895 23.13776268009264 5.976292985760287\n",
      "0.3830858139491821 21.19729121286924 3.131878387968713\n"
     ]
    }
   ],
   "source": [
    "df=pd.DataFrame(columns=[\"x\",\"y\",\"z\",\"target\"])\n",
    "for i in range(10):\n",
    "    a=\"C:/Users/PRANJUL/Desktop/new data/filtered_data_with_time/Ftop/\"+str(i+1)+\".txt\"\n",
    "    df_t=pd.DataFrame(columns=[\"x\",\"y\",\"z\",\"time\"])\n",
    "    f=open(a,\"r\")\n",
    "    line=f.readlines()\n",
    "    d={}\n",
    "    for l in line:\n",
    "        l=l.split(\"\\n\")[0]\n",
    "        l=l.split()\n",
    "        l[3]=int(\"\".join(l[3].split(\":\")))\n",
    "        d[\"x\"]=float(l[0])\n",
    "        d[\"y\"]=float(l[1])\n",
    "        d[\"z\"]=float(l[2])\n",
    "        d[\"time\"]=l[3]\n",
    "        df_t=df_t.append(d,ignore_index=True)\n",
    "    f.close()\n",
    "    x_t=statistics.variance(df_t[\"x\"])\n",
    "    y_t=statistics.variance(df_t[\"y\"])\n",
    "    z_t=statistics.variance(df_t[\"z\"])\n",
    "    print(x_t,y_t,z_t)\n",
    "    b={\"x\":x_t,\"y\":y_t,\"z\":z_t,\"target\":0}\n",
    "    df=df.append(b,ignore_index=True)"
   ]
  },
  {
   "cell_type": "code",
   "execution_count": 3,
   "metadata": {},
   "outputs": [
    {
     "name": "stdout",
     "output_type": "stream",
     "text": [
      "0.9705277451119347 7.869671315459411 0.23841344498370995\n",
      "           x          y         z  target\n",
      "0   0.203083   5.913868  2.438032     0.0\n",
      "1   0.820425  11.865160  9.370020     0.0\n",
      "2   0.433138  11.024583  2.897027     0.0\n",
      "3   0.155903  19.159667  3.000291     0.0\n",
      "4   0.127816  18.882102  1.214251     0.0\n",
      "5   0.383522  11.859986  5.524191     0.0\n",
      "6   0.782313  19.183481  7.958029     0.0\n",
      "7   0.457438  17.565776  2.361423     0.0\n",
      "8   0.356066  23.137763  5.976293     0.0\n",
      "9   0.383086  21.197291  3.131878     0.0\n",
      "10  0.970528   7.869671  0.238413     1.0\n",
      "0.11802511025703476 5.33376425171567 0.12855484237970113\n",
      "           x          y         z  target\n",
      "0   0.203083   5.913868  2.438032     0.0\n",
      "1   0.820425  11.865160  9.370020     0.0\n",
      "2   0.433138  11.024583  2.897027     0.0\n",
      "3   0.155903  19.159667  3.000291     0.0\n",
      "4   0.127816  18.882102  1.214251     0.0\n",
      "5   0.383522  11.859986  5.524191     0.0\n",
      "6   0.782313  19.183481  7.958029     0.0\n",
      "7   0.457438  17.565776  2.361423     0.0\n",
      "8   0.356066  23.137763  5.976293     0.0\n",
      "9   0.383086  21.197291  3.131878     0.0\n",
      "10  0.970528   7.869671  0.238413     1.0\n",
      "11  0.118025   5.333764  0.128555     1.0\n",
      "0.060041838702543635 4.412637420087022 0.21545037631798877\n",
      "           x          y         z  target\n",
      "0   0.203083   5.913868  2.438032     0.0\n",
      "1   0.820425  11.865160  9.370020     0.0\n",
      "2   0.433138  11.024583  2.897027     0.0\n",
      "3   0.155903  19.159667  3.000291     0.0\n",
      "4   0.127816  18.882102  1.214251     0.0\n",
      "5   0.383522  11.859986  5.524191     0.0\n",
      "6   0.782313  19.183481  7.958029     0.0\n",
      "7   0.457438  17.565776  2.361423     0.0\n",
      "8   0.356066  23.137763  5.976293     0.0\n",
      "9   0.383086  21.197291  3.131878     0.0\n",
      "10  0.970528   7.869671  0.238413     1.0\n",
      "11  0.118025   5.333764  0.128555     1.0\n",
      "12  0.060042   4.412637  0.215450     1.0\n",
      "0.3657570859166594 9.235411863123767 0.2904290050063165\n",
      "           x          y         z  target\n",
      "0   0.203083   5.913868  2.438032     0.0\n",
      "1   0.820425  11.865160  9.370020     0.0\n",
      "2   0.433138  11.024583  2.897027     0.0\n",
      "3   0.155903  19.159667  3.000291     0.0\n",
      "4   0.127816  18.882102  1.214251     0.0\n",
      "5   0.383522  11.859986  5.524191     0.0\n",
      "6   0.782313  19.183481  7.958029     0.0\n",
      "7   0.457438  17.565776  2.361423     0.0\n",
      "8   0.356066  23.137763  5.976293     0.0\n",
      "9   0.383086  21.197291  3.131878     0.0\n",
      "10  0.970528   7.869671  0.238413     1.0\n",
      "11  0.118025   5.333764  0.128555     1.0\n",
      "12  0.060042   4.412637  0.215450     1.0\n",
      "13  0.365757   9.235412  0.290429     1.0\n",
      "0.15852719587840003 8.078818906139098 0.26240061210695087\n",
      "           x          y         z  target\n",
      "0   0.203083   5.913868  2.438032     0.0\n",
      "1   0.820425  11.865160  9.370020     0.0\n",
      "2   0.433138  11.024583  2.897027     0.0\n",
      "3   0.155903  19.159667  3.000291     0.0\n",
      "4   0.127816  18.882102  1.214251     0.0\n",
      "5   0.383522  11.859986  5.524191     0.0\n",
      "6   0.782313  19.183481  7.958029     0.0\n",
      "7   0.457438  17.565776  2.361423     0.0\n",
      "8   0.356066  23.137763  5.976293     0.0\n",
      "9   0.383086  21.197291  3.131878     0.0\n",
      "10  0.970528   7.869671  0.238413     1.0\n",
      "11  0.118025   5.333764  0.128555     1.0\n",
      "12  0.060042   4.412637  0.215450     1.0\n",
      "13  0.365757   9.235412  0.290429     1.0\n",
      "14  0.158527   8.078819  0.262401     1.0\n",
      "0.05086191704051628 6.297970522194271 0.20316951586437076\n",
      "           x          y         z  target\n",
      "0   0.203083   5.913868  2.438032     0.0\n",
      "1   0.820425  11.865160  9.370020     0.0\n",
      "2   0.433138  11.024583  2.897027     0.0\n",
      "3   0.155903  19.159667  3.000291     0.0\n",
      "4   0.127816  18.882102  1.214251     0.0\n",
      "5   0.383522  11.859986  5.524191     0.0\n",
      "6   0.782313  19.183481  7.958029     0.0\n",
      "7   0.457438  17.565776  2.361423     0.0\n",
      "8   0.356066  23.137763  5.976293     0.0\n",
      "9   0.383086  21.197291  3.131878     0.0\n",
      "10  0.970528   7.869671  0.238413     1.0\n",
      "11  0.118025   5.333764  0.128555     1.0\n",
      "12  0.060042   4.412637  0.215450     1.0\n",
      "13  0.365757   9.235412  0.290429     1.0\n",
      "14  0.158527   8.078819  0.262401     1.0\n",
      "15  0.050862   6.297971  0.203170     1.0\n",
      "0.20649486541018322 13.527763849219411 0.5774543777797831\n",
      "           x          y         z  target\n",
      "0   0.203083   5.913868  2.438032     0.0\n",
      "1   0.820425  11.865160  9.370020     0.0\n",
      "2   0.433138  11.024583  2.897027     0.0\n",
      "3   0.155903  19.159667  3.000291     0.0\n",
      "4   0.127816  18.882102  1.214251     0.0\n",
      "5   0.383522  11.859986  5.524191     0.0\n",
      "6   0.782313  19.183481  7.958029     0.0\n",
      "7   0.457438  17.565776  2.361423     0.0\n",
      "8   0.356066  23.137763  5.976293     0.0\n",
      "9   0.383086  21.197291  3.131878     0.0\n",
      "10  0.970528   7.869671  0.238413     1.0\n",
      "11  0.118025   5.333764  0.128555     1.0\n",
      "12  0.060042   4.412637  0.215450     1.0\n",
      "13  0.365757   9.235412  0.290429     1.0\n",
      "14  0.158527   8.078819  0.262401     1.0\n",
      "15  0.050862   6.297971  0.203170     1.0\n",
      "16  0.206495  13.527764  0.577454     1.0\n",
      "0.06913211823745613 11.985716431247937 0.9692546332812172\n",
      "           x          y         z  target\n",
      "0   0.203083   5.913868  2.438032     0.0\n",
      "1   0.820425  11.865160  9.370020     0.0\n",
      "2   0.433138  11.024583  2.897027     0.0\n",
      "3   0.155903  19.159667  3.000291     0.0\n",
      "4   0.127816  18.882102  1.214251     0.0\n",
      "5   0.383522  11.859986  5.524191     0.0\n",
      "6   0.782313  19.183481  7.958029     0.0\n",
      "7   0.457438  17.565776  2.361423     0.0\n",
      "8   0.356066  23.137763  5.976293     0.0\n",
      "9   0.383086  21.197291  3.131878     0.0\n",
      "10  0.970528   7.869671  0.238413     1.0\n",
      "11  0.118025   5.333764  0.128555     1.0\n",
      "12  0.060042   4.412637  0.215450     1.0\n",
      "13  0.365757   9.235412  0.290429     1.0\n",
      "14  0.158527   8.078819  0.262401     1.0\n",
      "15  0.050862   6.297971  0.203170     1.0\n",
      "16  0.206495  13.527764  0.577454     1.0\n",
      "17  0.069132  11.985716  0.969255     1.0\n",
      "0.20924437038844546 8.661418236457134 0.2692965575567843\n",
      "           x          y         z  target\n",
      "0   0.203083   5.913868  2.438032     0.0\n",
      "1   0.820425  11.865160  9.370020     0.0\n",
      "2   0.433138  11.024583  2.897027     0.0\n",
      "3   0.155903  19.159667  3.000291     0.0\n",
      "4   0.127816  18.882102  1.214251     0.0\n",
      "5   0.383522  11.859986  5.524191     0.0\n",
      "6   0.782313  19.183481  7.958029     0.0\n",
      "7   0.457438  17.565776  2.361423     0.0\n",
      "8   0.356066  23.137763  5.976293     0.0\n",
      "9   0.383086  21.197291  3.131878     0.0\n",
      "10  0.970528   7.869671  0.238413     1.0\n",
      "11  0.118025   5.333764  0.128555     1.0\n",
      "12  0.060042   4.412637  0.215450     1.0\n",
      "13  0.365757   9.235412  0.290429     1.0\n",
      "14  0.158527   8.078819  0.262401     1.0\n",
      "15  0.050862   6.297971  0.203170     1.0\n",
      "16  0.206495  13.527764  0.577454     1.0\n",
      "17  0.069132  11.985716  0.969255     1.0\n",
      "18  0.209244   8.661418  0.269297     1.0\n",
      "0.19502306986779272 16.47292621706048 1.5666412918073005\n",
      "           x          y         z  target\n",
      "0   0.203083   5.913868  2.438032     0.0\n",
      "1   0.820425  11.865160  9.370020     0.0\n",
      "2   0.433138  11.024583  2.897027     0.0\n",
      "3   0.155903  19.159667  3.000291     0.0\n",
      "4   0.127816  18.882102  1.214251     0.0\n",
      "5   0.383522  11.859986  5.524191     0.0\n",
      "6   0.782313  19.183481  7.958029     0.0\n",
      "7   0.457438  17.565776  2.361423     0.0\n",
      "8   0.356066  23.137763  5.976293     0.0\n",
      "9   0.383086  21.197291  3.131878     0.0\n",
      "10  0.970528   7.869671  0.238413     1.0\n",
      "11  0.118025   5.333764  0.128555     1.0\n",
      "12  0.060042   4.412637  0.215450     1.0\n",
      "13  0.365757   9.235412  0.290429     1.0\n",
      "14  0.158527   8.078819  0.262401     1.0\n",
      "15  0.050862   6.297971  0.203170     1.0\n",
      "16  0.206495  13.527764  0.577454     1.0\n",
      "17  0.069132  11.985716  0.969255     1.0\n",
      "18  0.209244   8.661418  0.269297     1.0\n",
      "19  0.195023  16.472926  1.566641     1.0\n"
     ]
    }
   ],
   "source": [
    "for i in range(10):\n",
    "    a=\"C:/Users/PRANJUL/Desktop/new data/filtered_data_with_time/Fbottom/\"+str(i+1)+\".txt\"\n",
    "    df_t=pd.DataFrame(columns=[\"x\",\"y\",\"z\",\"time\"])\n",
    "    f=open(a,\"r\")\n",
    "    line=f.readlines()\n",
    "    d={}\n",
    "    for l in line:\n",
    "        l=l.split(\"\\n\")[0]\n",
    "        l=l.split()\n",
    "        l[3]=int(\"\".join(l[3].split(\":\")))\n",
    "        d[\"x\"]=float(l[0])\n",
    "        d[\"y\"]=float(l[1])\n",
    "        d[\"z\"]=float(l[2])\n",
    "        d[\"time\"]=l[3]\n",
    "        df_t=df_t.append(d,ignore_index=True)\n",
    "    f.close()\n",
    "    x_t=statistics.variance(df_t[\"x\"])\n",
    "    y_t=statistics.variance(df_t[\"y\"])\n",
    "    z_t=statistics.variance(df_t[\"z\"])\n",
    "    print(x_t,y_t,z_t)\n",
    "    b={\"x\":x_t,\"y\":y_t,\"z\":z_t,\"target\":1}\n",
    "    df=df.append(b,ignore_index=True)\n",
    "    print(df)"
   ]
  },
  {
   "cell_type": "code",
   "execution_count": 4,
   "metadata": {},
   "outputs": [],
   "source": [
    "for i in range(10):\n",
    "    a=\"C:/Users/PRANJUL/Desktop/new data/filtered_data_with_time/Fleft/\"+str(i+1)+\".txt\"\n",
    "    df_t=pd.DataFrame(columns=[\"x\",\"y\",\"z\",\"time\"])\n",
    "    f=open(a,\"r\")\n",
    "    line=f.readlines()\n",
    "    d={}\n",
    "    for l in line:\n",
    "        l=l.split(\"\\n\")[0]\n",
    "        l=l.split()\n",
    "        l[3]=int(\"\".join(l[3].split(\":\")))\n",
    "        d[\"x\"]=float(l[0])\n",
    "        d[\"y\"]=float(l[1])\n",
    "        d[\"z\"]=float(l[2])\n",
    "        d[\"time\"]=l[3]\n",
    "        df_t=df_t.append(d,ignore_index=True)\n",
    "    f.close()\n",
    "    x_t=statistics.variance(df_t[\"x\"])\n",
    "    y_t=statistics.variance(df_t[\"y\"])\n",
    "    z_t=statistics.variance(df_t[\"z\"])\n",
    "    b={\"x\":x_t,\"y\":y_t,\"z\":z_t,\"target\":2}\n",
    "    df=df.append(b,ignore_index=True)"
   ]
  },
  {
   "cell_type": "code",
   "execution_count": 5,
   "metadata": {},
   "outputs": [],
   "source": [
    "for i in range(10):\n",
    "    a=\"C:/Users/PRANJUL/Desktop/new data/filtered_data_with_time/Fright/\"+str(i+1)+\".txt\"\n",
    "    df_t=pd.DataFrame(columns=[\"x\",\"y\",\"z\",\"time\"])\n",
    "    f=open(a,\"r\")\n",
    "    line=f.readlines()\n",
    "    d={}\n",
    "    for l in line:\n",
    "        l=l.split(\"\\n\")[0]\n",
    "        l=l.split()\n",
    "        l[3]=int(\"\".join(l[3].split(\":\")))\n",
    "        d[\"x\"]=float(l[0])\n",
    "        d[\"y\"]=float(l[1])\n",
    "        d[\"z\"]=float(l[2])\n",
    "        d[\"time\"]=l[3]\n",
    "        df_t=df_t.append(d,ignore_index=True)\n",
    "    f.close()\n",
    "    x_t=statistics.variance(df_t[\"x\"])\n",
    "    y_t=statistics.variance(df_t[\"y\"])\n",
    "    z_t=statistics.variance(df_t[\"z\"])\n",
    "    b={\"x\":x_t,\"y\":y_t,\"z\":z_t,\"target\":3}\n",
    "    df=df.append(b,ignore_index=True)"
   ]
  },
  {
   "cell_type": "code",
   "execution_count": 6,
   "metadata": {},
   "outputs": [
    {
     "data": {
      "text/plain": [
       "<bound method DataFrame.count of             x          y         z  target\n",
       "0    0.203083   5.913868  2.438032     0.0\n",
       "1    0.820425  11.865160  9.370020     0.0\n",
       "2    0.433138  11.024583  2.897027     0.0\n",
       "3    0.155903  19.159667  3.000291     0.0\n",
       "4    0.127816  18.882102  1.214251     0.0\n",
       "5    0.383522  11.859986  5.524191     0.0\n",
       "6    0.782313  19.183481  7.958029     0.0\n",
       "7    0.457438  17.565776  2.361423     0.0\n",
       "8    0.356066  23.137763  5.976293     0.0\n",
       "9    0.383086  21.197291  3.131878     0.0\n",
       "10   0.970528   7.869671  0.238413     1.0\n",
       "11   0.118025   5.333764  0.128555     1.0\n",
       "12   0.060042   4.412637  0.215450     1.0\n",
       "13   0.365757   9.235412  0.290429     1.0\n",
       "14   0.158527   8.078819  0.262401     1.0\n",
       "15   0.050862   6.297971  0.203170     1.0\n",
       "16   0.206495  13.527764  0.577454     1.0\n",
       "17   0.069132  11.985716  0.969255     1.0\n",
       "18   0.209244   8.661418  0.269297     1.0\n",
       "19   0.195023  16.472926  1.566641     1.0\n",
       "20   7.660567   0.173473  2.995475     2.0\n",
       "21   7.231375   0.102405  3.250206     2.0\n",
       "22  14.459549   0.017169  0.876550     2.0\n",
       "23   5.908854   0.079670  1.437410     2.0\n",
       "24  13.877600   0.019992  1.249153     2.0\n",
       "25   5.635864   0.097205  0.848428     2.0\n",
       "26   9.279355   0.022892  1.439699     2.0\n",
       "27   8.561812   0.020069  2.395238     2.0\n",
       "28   7.910870   0.019194  1.733575     2.0\n",
       "29   9.192606   0.033068  1.666266     2.0\n",
       "30   9.233186   0.048051  3.564349     3.0\n",
       "31   6.419701   0.030804  2.644482     3.0\n",
       "32   5.455583   0.023494  3.236780     3.0\n",
       "33   7.396129   0.145766  1.583050     3.0\n",
       "34   6.492521   0.195880  3.525766     3.0\n",
       "35   6.222438   0.079896  5.168392     3.0\n",
       "36   7.060297   0.028228  5.523451     3.0\n",
       "37   6.172030   2.687165  2.302193     3.0\n",
       "38   9.788861   0.044671  8.058724     3.0\n",
       "39   8.870903   0.089994  5.433977     3.0>"
      ]
     },
     "execution_count": 6,
     "metadata": {},
     "output_type": "execute_result"
    }
   ],
   "source": [
    "df.count"
   ]
  },
  {
   "cell_type": "code",
   "execution_count": 7,
   "metadata": {},
   "outputs": [
    {
     "name": "stdout",
     "output_type": "stream",
     "text": [
      "            x          y         z  target\n",
      "39   8.870903   0.089994  5.433977     3.0\n",
      "14   0.158527   8.078819  0.262401     1.0\n",
      "8    0.356066  23.137763  5.976293     0.0\n",
      "22  14.459549   0.017169  0.876550     2.0\n",
      "33   7.396129   0.145766  1.583050     3.0\n",
      "23   5.908854   0.079670  1.437410     2.0\n",
      "38   9.788861   0.044671  8.058724     3.0\n",
      "6    0.782313  19.183481  7.958029     0.0\n",
      "35   6.222438   0.079896  5.168392     3.0\n",
      "19   0.195023  16.472926  1.566641     1.0\n",
      "24  13.877600   0.019992  1.249153     2.0\n",
      "9    0.383086  21.197291  3.131878     0.0\n",
      "4    0.127816  18.882102  1.214251     0.0\n",
      "30   9.233186   0.048051  3.564349     3.0\n",
      "13   0.365757   9.235412  0.290429     1.0\n",
      "11   0.118025   5.333764  0.128555     1.0\n",
      "26   9.279355   0.022892  1.439699     2.0\n",
      "7    0.457438  17.565776  2.361423     0.0\n",
      "1    0.820425  11.865160  9.370020     0.0\n",
      "0    0.203083   5.913868  2.438032     0.0\n",
      "27   8.561812   0.020069  2.395238     2.0\n",
      "15   0.050862   6.297971  0.203170     1.0\n",
      "25   5.635864   0.097205  0.848428     2.0\n",
      "18   0.209244   8.661418  0.269297     1.0\n",
      "32   5.455583   0.023494  3.236780     3.0\n",
      "36   7.060297   0.028228  5.523451     3.0\n",
      "31   6.419701   0.030804  2.644482     3.0\n",
      "3    0.155903  19.159667  3.000291     0.0\n",
      "29   9.192606   0.033068  1.666266     2.0\n",
      "16   0.206495  13.527764  0.577454     1.0\n",
      "37   6.172030   2.687165  2.302193     3.0\n",
      "28   7.910870   0.019194  1.733575     2.0\n",
      "5    0.383522  11.859986  5.524191     0.0\n",
      "34   6.492521   0.195880  3.525766     3.0\n",
      "17   0.069132  11.985716  0.969255     1.0\n",
      "2    0.433138  11.024583  2.897027     0.0\n",
      "12   0.060042   4.412637  0.215450     1.0\n",
      "21   7.231375   0.102405  3.250206     2.0\n",
      "20   7.660567   0.173473  2.995475     2.0\n",
      "10   0.970528   7.869671  0.238413     1.0\n"
     ]
    }
   ],
   "source": [
    "df=shuffle(df)\n",
    "print(df)"
   ]
  },
  {
   "cell_type": "code",
   "execution_count": 8,
   "metadata": {},
   "outputs": [
    {
     "data": {
      "text/html": [
       "<div>\n",
       "<style scoped>\n",
       "    .dataframe tbody tr th:only-of-type {\n",
       "        vertical-align: middle;\n",
       "    }\n",
       "\n",
       "    .dataframe tbody tr th {\n",
       "        vertical-align: top;\n",
       "    }\n",
       "\n",
       "    .dataframe thead th {\n",
       "        text-align: right;\n",
       "    }\n",
       "</style>\n",
       "<table border=\"1\" class=\"dataframe\">\n",
       "  <thead>\n",
       "    <tr style=\"text-align: right;\">\n",
       "      <th></th>\n",
       "      <th>x</th>\n",
       "      <th>y</th>\n",
       "      <th>z</th>\n",
       "      <th>target</th>\n",
       "    </tr>\n",
       "  </thead>\n",
       "  <tbody>\n",
       "    <tr>\n",
       "      <th>39</th>\n",
       "      <td>8.870903</td>\n",
       "      <td>0.089994</td>\n",
       "      <td>5.433977</td>\n",
       "      <td>3.0</td>\n",
       "    </tr>\n",
       "    <tr>\n",
       "      <th>14</th>\n",
       "      <td>0.158527</td>\n",
       "      <td>8.078819</td>\n",
       "      <td>0.262401</td>\n",
       "      <td>1.0</td>\n",
       "    </tr>\n",
       "    <tr>\n",
       "      <th>8</th>\n",
       "      <td>0.356066</td>\n",
       "      <td>23.137763</td>\n",
       "      <td>5.976293</td>\n",
       "      <td>0.0</td>\n",
       "    </tr>\n",
       "    <tr>\n",
       "      <th>22</th>\n",
       "      <td>14.459549</td>\n",
       "      <td>0.017169</td>\n",
       "      <td>0.876550</td>\n",
       "      <td>2.0</td>\n",
       "    </tr>\n",
       "    <tr>\n",
       "      <th>33</th>\n",
       "      <td>7.396129</td>\n",
       "      <td>0.145766</td>\n",
       "      <td>1.583050</td>\n",
       "      <td>3.0</td>\n",
       "    </tr>\n",
       "  </tbody>\n",
       "</table>\n",
       "</div>"
      ],
      "text/plain": [
       "            x          y         z  target\n",
       "39   8.870903   0.089994  5.433977     3.0\n",
       "14   0.158527   8.078819  0.262401     1.0\n",
       "8    0.356066  23.137763  5.976293     0.0\n",
       "22  14.459549   0.017169  0.876550     2.0\n",
       "33   7.396129   0.145766  1.583050     3.0"
      ]
     },
     "execution_count": 8,
     "metadata": {},
     "output_type": "execute_result"
    }
   ],
   "source": [
    "df.head()"
   ]
  },
  {
   "cell_type": "code",
   "execution_count": 9,
   "metadata": {},
   "outputs": [],
   "source": [
    "from sklearn.model_selection import train_test_split"
   ]
  },
  {
   "cell_type": "code",
   "execution_count": 10,
   "metadata": {},
   "outputs": [],
   "source": [
    "X=df.drop(columns=\"target\",axis=1)\n",
    "Y=df[\"target\"]\n",
    "X_train, X_test, y_train, y_test = train_test_split(X, Y, test_size=0.2)"
   ]
  },
  {
   "cell_type": "code",
   "execution_count": 11,
   "metadata": {},
   "outputs": [],
   "source": [
    "from sklearn.linear_model import LinearRegression"
   ]
  },
  {
   "cell_type": "code",
   "execution_count": 12,
   "metadata": {},
   "outputs": [],
   "source": [
    "lm = LinearRegression()"
   ]
  },
  {
   "cell_type": "code",
   "execution_count": 13,
   "metadata": {},
   "outputs": [
    {
     "data": {
      "text/plain": [
       "LinearRegression(copy_X=True, fit_intercept=True, n_jobs=None, normalize=False)"
      ]
     },
     "execution_count": 13,
     "metadata": {},
     "output_type": "execute_result"
    }
   ],
   "source": [
    "lm.fit(X_train, y_train)"
   ]
  },
  {
   "cell_type": "code",
   "execution_count": 14,
   "metadata": {},
   "outputs": [
    {
     "name": "stdout",
     "output_type": "stream",
     "text": [
      "[ 0.92354981 -0.0320597   2.23220291  2.16817089  2.24060483  0.57788126\n",
      "  2.14733827  2.36916628]\n",
      "14    1.0\n",
      "4     0.0\n",
      "20    2.0\n",
      "35    3.0\n",
      "36    3.0\n",
      "17    1.0\n",
      "31    3.0\n",
      "30    3.0\n",
      "Name: target, dtype: float64\n"
     ]
    }
   ],
   "source": [
    "pred = lm.predict(X_test)\n",
    "print(pred)\n",
    "print(y_test)"
   ]
  },
  {
   "cell_type": "code",
   "execution_count": 15,
   "metadata": {},
   "outputs": [
    {
     "data": {
      "text/plain": [
       "<matplotlib.collections.PathCollection at 0x2487e5cf630>"
      ]
     },
     "execution_count": 15,
     "metadata": {},
     "output_type": "execute_result"
    },
    {
     "data": {
      "image/png": "[encoded data removed]",
      "text/plain": [
       "<Figure size 432x288 with 1 Axes>"
      ]
     },
     "metadata": {
      "needs_background": "light"
     },
     "output_type": "display_data"
    }
   ],
   "source": [
    "plt.scatter(y_test,pred)"
   ]
  },
  {
   "cell_type": "code",
   "execution_count": 16,
   "metadata": {},
   "outputs": [],
   "source": [
    "from sklearn import metrics"
   ]
  },
  {
   "cell_type": "code",
   "execution_count": 17,
   "metadata": {},
   "outputs": [
    {
     "data": {
      "text/plain": [
       "0.8789684992525344"
      ]
     },
     "execution_count": 17,
     "metadata": {},
     "output_type": "execute_result"
    }
   ],
   "source": [
    "metrics.explained_variance_score(y_test, pred)"
   ]
  },
  {
   "cell_type": "code",
   "execution_count": 18,
   "metadata": {},
   "outputs": [],
   "source": [
    "from sklearn.svm import SVC"
   ]
  },
  {
   "cell_type": "code",
   "execution_count": 19,
   "metadata": {},
   "outputs": [],
   "source": [
    "svc=SVC()"
   ]
  },
  {
   "cell_type": "code",
   "execution_count": 20,
   "metadata": {},
   "outputs": [
    {
     "data": {
      "text/plain": [
       "SVC(C=1.0, break_ties=False, cache_size=200, class_weight=None, coef0=0.0,\n",
       "    decision_function_shape='ovr', degree=3, gamma='scale', kernel='rbf',\n",
       "    max_iter=-1, probability=False, random_state=None, shrinking=True,\n",
       "    tol=0.001, verbose=False)"
      ]
     },
     "execution_count": 20,
     "metadata": {},
     "output_type": "execute_result"
    }
   ],
   "source": [
    "svc.fit(X_train,y_train)"
   ]
  },
  {
   "cell_type": "code",
   "execution_count": 21,
   "metadata": {},
   "outputs": [],
   "source": [
    "pred=svc.predict(X_test)"
   ]
  },
  {
   "cell_type": "code",
   "execution_count": 22,
   "metadata": {},
   "outputs": [],
   "source": [
    "from sklearn.metrics import classification_report"
   ]
  },
  {
   "cell_type": "code",
   "execution_count": 23,
   "metadata": {},
   "outputs": [
    {
     "name": "stdout",
     "output_type": "stream",
     "text": [
      "              precision    recall  f1-score   support\n",
      "\n",
      "         0.0       1.00      1.00      1.00         1\n",
      "         1.0       1.00      1.00      1.00         2\n",
      "         2.0       0.20      1.00      0.33         1\n",
      "         3.0       0.00      0.00      0.00         4\n",
      "\n",
      "    accuracy                           0.50         8\n",
      "   macro avg       0.55      0.75      0.58         8\n",
      "weighted avg       0.40      0.50      0.42         8\n",
      "\n"
     ]
    },
    {
     "name": "stderr",
     "output_type": "stream",
     "text": [
      "c:\\users\\pranjul\\appdata\\local\\programs\\python\\python37\\lib\\site-packages\\sklearn\\metrics\\_classification.py:1272: UndefinedMetricWarning: Precision and F-score are ill-defined and being set to 0.0 in labels with no predicted samples. Use `zero_division` parameter to control this behavior.\n",
      "  _warn_prf(average, modifier, msg_start, len(result))\n"
     ]
    }
   ],
   "source": [
    "print(classification_report(y_test, pred))"
   ]
  },
  {
   "cell_type": "code",
   "execution_count": 24,
   "metadata": {},
   "outputs": [
    {
     "name": "stdout",
     "output_type": "stream",
     "text": [
      "0.5\n"
     ]
    }
   ],
   "source": [
    "from sklearn.metrics import accuracy_score\n",
    "print (accuracy_score(y_test, pred))"
   ]
  },
  {
   "cell_type": "code",
   "execution_count": 25,
   "metadata": {},
   "outputs": [
    {
     "ename": "ModuleNotFoundError",
     "evalue": "No module named 'sklearn.grid_search'",
     "output_type": "error",
     "traceback": [
      "\u001b[1;31m---------------------------------------------------------------------------\u001b[0m",
      "\u001b[1;31mModuleNotFoundError\u001b[0m                       Traceback (most recent call last)",
      "\u001b[1;32m<ipython-input-25-6b275803b37c>\u001b[0m in \u001b[0;36m<module>\u001b[1;34m\u001b[0m\n\u001b[1;32m----> 1\u001b[1;33m \u001b[1;32mfrom\u001b[0m \u001b[0msklearn\u001b[0m\u001b[1;33m.\u001b[0m\u001b[0mgrid_search\u001b[0m \u001b[1;32mimport\u001b[0m \u001b[0mGridSearchCV\u001b[0m\u001b[1;33m\u001b[0m\u001b[1;33m\u001b[0m\u001b[0m\n\u001b[0m",
      "\u001b[1;31mModuleNotFoundError\u001b[0m: No module named 'sklearn.grid_search'"
     ]
    }
   ],
   "source": [
    "from sklearn.grid_search import GridSearchCV"
   ]
  },
  {
   "cell_type": "code",
   "execution_count": null,
   "metadata": {},
   "outputs": [],
   "source": [
    "param_grid={'C':[0.1,1,10,100,1000],'gamma':[1,0.1,0.01,0.001,0.0001]}"
   ]
  },
  {
   "cell_type": "code",
   "execution_count": null,
   "metadata": {},
   "outputs": [],
   "source": [
    "grid=GridSearchCV(SVC(),param_grid,verbose=3)"
   ]
  },
  {
   "cell_type": "code",
   "execution_count": null,
   "metadata": {},
   "outputs": [],
   "source": [
    "grid.fit(X_train,y_train)"
   ]
  },
  {
   "cell_type": "raw",
   "metadata": {},
   "source": []
  },
  {
   "cell_type": "raw",
   "metadata": {},
   "source": []
  },
  {
   "cell_type": "code",
   "execution_count": null,
   "metadata": {},
   "outputs": [],
   "source": [
    "grid.best_params_"
   ]
  },
  {
   "cell_type": "code",
   "execution_count": null,
   "metadata": {},
   "outputs": [],
   "source": [
    "grid_pred=grid.predict(X_test)"
   ]
  },
  {
   "cell_type": "code",
   "execution_count": null,
   "metadata": {},
   "outputs": [],
   "source": [
    "metrics.explained_variance_score(y_test,grid_pred)"
   ]
  },
  {
   "cell_type": "code",
   "execution_count": null,
   "metadata": {},
   "outputs": [],
   "source": [
    "print(classification_report(y_test,grid_pred))"
   ]
  },
  {
   "cell_type": "code",
   "execution_count": null,
   "metadata": {},
   "outputs": [],
   "source": [
    "from sklearn.ensemble import RandomForestClassifier"
   ]
  },
  {
   "cell_type": "code",
   "execution_count": null,
   "metadata": {},
   "outputs": [],
   "source": [
    "a=\"E:/pranjul bhaiya/test1.txt\"\n",
    "df_t=pd.DataFrame(columns=[\"x\",\"y\",\"z\",\"time\"])\n",
    "f=open(a,\"r\")\n",
    "line=f.readlines()\n",
    "d={}\n",
    "for l in line:\n",
    "    l=l.split(\"\\n\")[0]\n",
    "    l=l.split()\n",
    "    l[3]=int(\"\".join(l[3].split(\":\")))\n",
    "    d[\"x\"]=float(l[0])\n",
    "    d[\"y\"]=float(l[1])\n",
    "    d[\"z\"]=float(l[2])\n",
    "    d[\"time\"]=l[3]\n",
    "    df_t=df_t.append(d,ignore_index=True)\n",
    "f.close()\n",
    "x_t=statistics.variance(df_t[\"x\"])\n",
    "y_t=statistics.variance(df_t[\"y\"])\n",
    "z_t=statistics.variance(df_t[\"z\"])\n",
    "b={\"x\":x_t,\"y\":y_t,\"z\":z_t}\n",
    "df_test=df_test.append(b,ignore_index=True)"
   ]
  },
  {
   "cell_type": "code",
   "execution_count": null,
   "metadata": {},
   "outputs": [],
   "source": [
    "df_test.head()"
   ]
  },
  {
   "cell_type": "code",
   "execution_count": null,
   "metadata": {},
   "outputs": [],
   "source": [
    "grid.predict(df_test)"
   ]
  },
  {
   "cell_type": "code",
   "execution_count": null,
   "metadata": {},
   "outputs": [],
   "source": [
    "from sklearn.ensemble import RandomForestClassifier"
   ]
  },
  {
   "cell_type": "code",
   "execution_count": null,
   "metadata": {},
   "outputs": [],
   "source": [
    "rfc=RandomForestClassifier(n_estimators=200)"
   ]
  },
  {
   "cell_type": "raw",
   "metadata": {},
   "source": []
  },
  {
   "cell_type": "code",
   "execution_count": null,
   "metadata": {},
   "outputs": [],
   "source": [
    "rfc.fit(X_train,y_train)"
   ]
  },
  {
   "cell_type": "code",
   "execution_count": null,
   "metadata": {},
   "outputs": [],
   "source": [
    "rfc_pred=rfc.predict(X_test)"
   ]
  },
  {
   "cell_type": "code",
   "execution_count": null,
   "metadata": {},
   "outputs": [],
   "source": [
    "print(classification_report(y_test,rfc_pred))"
   ]
  },
  {
   "cell_type": "code",
   "execution_count": null,
   "metadata": {},
   "outputs": [],
   "source": []
  },
  {
   "cell_type": "code",
   "execution_count": null,
   "metadata": {},
   "outputs": [],
   "source": []
  },
  {
   "cell_type": "code",
   "execution_count": null,
   "metadata": {},
   "outputs": [],
   "source": []
  },
  {
   "cell_type": "code",
   "execution_count": null,
   "metadata": {},
   "outputs": [],
   "source": []
  },
  {
   "cell_type": "code",
   "execution_count": null,
   "metadata": {},
   "outputs": [],
   "source": []
  },
  {
   "cell_type": "code",
   "execution_count": null,
   "metadata": {},
   "outputs": [],
   "source": []
  },
  {
   "cell_type": "code",
   "execution_count": null,
   "metadata": {},
   "outputs": [],
   "source": []
  },
  {
   "cell_type": "code",
   "execution_count": null,
   "metadata": {},
   "outputs": [],
   "source": []
  },
  {
   "cell_type": "code",
   "execution_count": null,
   "metadata": {},
   "outputs": [],
   "source": []
  }
 ],
 "metadata": {
  "kernelspec": {
   "display_name": "Python 3",
   "language": "python",
   "name": "python3"
  },
  "language_info": {
   "codemirror_mode": {
    "name": "ipython",
    "version": 3
   },
   "file_extension": ".py",
   "mimetype": "text/x-python",
   "name": "python",
   "nbconvert_exporter": "python",
   "pygments_lexer": "ipython3",
   "version": "3.7.3"
  }
 },
 "nbformat": 4,
 "nbformat_minor": 2
}
