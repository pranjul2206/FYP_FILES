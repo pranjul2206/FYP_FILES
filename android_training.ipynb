{
 "cells": [
  {
   "cell_type": "code",
   "execution_count": 1,
   "metadata": {},
   "outputs": [],
   "source": [
    "import pandas as pd\n",
    "import os"
   ]
  },
  {
   "cell_type": "code",
   "execution_count": 21,
   "metadata": {},
   "outputs": [
    {
     "name": "stdout",
     "output_type": "stream",
     "text": [
      "['gesture1.txt', 'gesture2.txt', 'gesture3.txt', 'gesture4.txt']\n",
      "4 ['gesture1.txt', 'gesture2.txt', 'gesture3.txt', 'gesture4.txt']\n",
      "    target          x          y         z\n",
      "0      0.0   0.197594   5.754034  2.372139\n",
      "1      0.0   0.376806  20.849795  3.080536\n",
      "2      0.0   0.793960  11.482413  9.067761\n",
      "3      0.0   0.409075  10.412107  2.736081\n",
      "4      0.0   0.150527  18.498988  2.896833\n",
      "5      0.0   0.123556  18.252698  1.173776\n",
      "6      0.0   0.368771  11.403833  5.311722\n",
      "7      0.0   0.770277  18.888350  7.835598\n",
      "8      0.0   0.443984  17.049136  2.291970\n",
      "9      0.0   0.339881  22.086046  5.704643\n",
      "10     1.0   0.935866   7.588612  0.229899\n",
      "11     1.0   0.190591  16.098542  1.531036\n",
      "12     1.0   0.113107   5.111524  0.123198\n",
      "13     1.0   0.057540   4.228778  0.206473\n",
      "14     1.0   0.357251   9.020635  0.283675\n",
      "15     1.0   0.151321   7.711600  0.250473\n",
      "16     1.0   0.049272   6.101159  0.196820\n",
      "17     1.0   0.201458  13.197818  0.563370\n",
      "18     1.0   0.067561  11.713314  0.947226\n",
      "19     1.0   0.203090   8.406671  0.261376\n",
      "20     2.0   7.562354   0.171249  2.957071\n",
      "21     2.0   8.809581   0.031690  1.596838\n",
      "22     2.0   7.005394   0.099205  3.148637\n",
      "23     2.0  13.736571   0.016311  0.832722\n",
      "24     2.0   5.651947   0.076206  1.374914\n",
      "25     2.0  13.274227   0.019123  1.194842\n",
      "26     2.0   5.483543   0.094578  0.825498\n",
      "27     2.0   8.970043   0.022129  1.391709\n",
      "28     2.0   8.172639   0.019157  2.286364\n",
      "29     2.0   7.515326   0.018234  1.646896\n",
      "30     3.0   8.863858   0.046129  3.421775\n",
      "31     3.0   8.516067   0.086395  5.216618\n",
      "32     3.0   6.063051   0.029093  2.497567\n",
      "33     3.0   5.182804   0.022319  3.074941\n",
      "34     3.0   7.006859   0.138094  1.499732\n",
      "35     3.0   6.276104   0.189351  3.408240\n",
      "36     3.0   6.021715   0.077319  5.001670\n",
      "37     3.0   6.777885   0.027099  5.302513\n",
      "38     3.0   6.034874   2.627450  2.251033\n",
      "39     3.0   9.397307   0.042884  7.736375\n"
     ]
    }
   ],
   "source": [
    "dir=os.path.dirname(os.path.realpath('__file__')) #getting relative path\n",
    "dirname = os.path.join(dir, 'ANDROID','android_training') #moving to training dataset for all gestures\n",
    "list = os.listdir(dirname) #refrencing all files of dir into list\n",
    "print(list)\n",
    "number_files = len(list) #checking content length of list\n",
    "print (number_files,list)\n",
    "df=pd.DataFrame(columns=[\"x\",\"y\",\"z\"]) #dataframe which will have x,y,z variance of all gestures\n",
    "for i in range(len(list)): #looping the training data\n",
    "    file=os.path.join(dirname, list[i])\n",
    "    data = pd.read_csv(file, sep=\" \", names=['x','y','z'],header=None) #reading traing data txt file: values seperated by space->dataframe\n",
    "    target = [i]*len(data)\n",
    "    data[\"target\"]=target\n",
    "    df=df.append(data,ignore_index=True)\n",
    "print(df)"
   ]
  },
  {
   "cell_type": "code",
   "execution_count": 22,
   "metadata": {},
   "outputs": [
    {
     "name": "stdout",
     "output_type": "stream",
     "text": [
      "[1. 0. 0. 0. 2. 0. 2. 2.]\n"
     ]
    },
    {
     "name": "stderr",
     "output_type": "stream",
     "text": [
      "c:\\users\\pranjul\\appdata\\local\\programs\\python\\python37\\lib\\site-packages\\sklearn\\svm\\base.py:193: FutureWarning: The default value of gamma will change from 'auto' to 'scale' in version 0.22 to account better for unscaled features. Set gamma explicitly to 'auto' or 'scale' to avoid this warning.\n",
      "  \"avoid this warning.\", FutureWarning)\n"
     ]
    }
   ],
   "source": [
    "from sklearn.model_selection import train_test_split \n",
    "X=df.drop(columns=\"target\",axis=1) #seperating variance and target\n",
    "Y=df[\"target\"]\n",
    "X_train, X_test, y_train, y_test = train_test_split(X, Y, test_size=0.2) #splitting 80% to train and 2% to test\n",
    "from sklearn.svm import SVC\n",
    "svc=SVC()\n",
    "svc.fit(X_train,y_train) #training\n",
    "pred=svc.predict(X_test) #predict\n",
    "print(pred)"
   ]
  },
  {
   "cell_type": "code",
   "execution_count": 23,
   "metadata": {},
   "outputs": [
    {
     "name": "stdout",
     "output_type": "stream",
     "text": [
      "0.625\n"
     ]
    }
   ],
   "source": [
    "from sklearn.metrics import accuracy_score\n",
    "print (accuracy_score(y_test, pred)) #i dont know how 100% acc. , it changes with train_test_split"
   ]
  },
  {
   "cell_type": "code",
   "execution_count": 31,
   "metadata": {},
   "outputs": [
    {
     "name": "stdout",
     "output_type": "stream",
     "text": [
      "['model_pickle0']\n"
     ]
    }
   ],
   "source": [
    "dir=os.path.dirname(os.path.realpath('__file__')) #getting relative path\n",
    "dirname = os.path.join(dir, 'ANDROID','models')\n",
    "list = os.listdir(dirname)\n",
    "print(list)\n",
    "max=0\n",
    "for i in list:\n",
    "    if int(i[12:])>max:\n",
    "        max=int(i[12:])\n",
    "max+=1"
   ]
  },
  {
   "cell_type": "code",
   "execution_count": 33,
   "metadata": {},
   "outputs": [],
   "source": [
    "import pickle\n",
    "with open(dirname+'/model_pickle'+str(max),'wb') as f:\n",
    "    pickle.dump(svc,f)"
   ]
  },
  {
   "cell_type": "code",
   "execution_count": null,
   "metadata": {},
   "outputs": [],
   "source": []
  }
 ],
 "metadata": {
  "kernelspec": {
   "display_name": "Python 3",
   "language": "python",
   "name": "python3"
  },
  "language_info": {
   "codemirror_mode": {
    "name": "ipython",
    "version": 3
   },
   "file_extension": ".py",
   "mimetype": "text/x-python",
   "name": "python",
   "nbconvert_exporter": "python",
   "pygments_lexer": "ipython3",
   "version": "3.7.3"
  }
 },
 "nbformat": 4,
 "nbformat_minor": 2
}
