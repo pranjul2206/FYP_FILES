{
 "cells": [
  {
   "cell_type": "code",
   "execution_count": 14,
   "metadata": {},
   "outputs": [],
   "source": [
    "import pandas as pd\n",
    "import numpy\n",
    "import os\n",
    "import socket\n",
    "import win32com.client"
   ]
  },
  {
   "cell_type": "code",
   "execution_count": 15,
   "metadata": {},
   "outputs": [],
   "source": [
    "#root_path\n",
    "dir=os.path.dirname(os.path.realpath('__file__'))\n",
    "#data_collect dictionary\n",
    "gesture_dict={'left':os.path.join(dir, 'ANDROID','gestures','left'),\n",
    "         \"right\":os.path.join(dir, 'ANDROID','gestures','right'),\n",
    "        \"top\":os.path.join(dir, 'ANDROID','gestures','top'),\n",
    "        \"bottom\":os.path.join(dir, 'ANDROID','gestures','bottom')}"
   ]
  },
  {
   "cell_type": "code",
   "execution_count": 16,
   "metadata": {},
   "outputs": [],
   "source": [
    "def predict():\n",
    "    dirname = os.path.join(dir, 'ANDROID','models') #getting path name for model\n",
    "    list = os.listdir(dirname) #refrence of elemt is path\n",
    "    print(list)\n",
    "    max=0 #obtaining max amongt complete list[latest=max]\n",
    "    #choosing most recent model,In future user can chossse their own model with their accuracy\n",
    "    for i in list:\n",
    "        if int(i[12:])>max:\n",
    "            max=int(i[12:])\n",
    "    import pickle\n",
    "    with open(dirname+'/model_pickle'+str(max),'rb') as f: #loading most recent model\n",
    "        svc=pickle.load(f)\n",
    "    xyz=finaldata.split()\n",
    "    print(xyz)\n",
    "    df=pd.DataFrame(columns=[\"x\",\"y\",\"z\"])\n",
    "    b={\"x\":xyz[0],\"y\":xyz[1],\"z\":xyz[2]} #testing with my own variances\n",
    "    df=df.append(b,ignore_index=True)\n",
    "    pred=svc.predict(df)\n",
    "    controll=pred.astype(numpy.int64)\n",
    "    print(\"predictions=\",controll[0]) #prediction gesture1\n",
    "    if controll[0]==0:\n",
    "        presentation.SlideShowWindow.View.Next()\n",
    "    elif controll[0]==1:\n",
    "        presentation.SlideShowWindow.View.Previous()\n",
    "    else:\n",
    "        presentation.SlideShowWindow.View.Exit()\n",
    "        app.Quit()"
   ]
  },
  {
   "cell_type": "code",
   "execution_count": 17,
   "metadata": {},
   "outputs": [],
   "source": [
    "def CaptureData(gesture,data):\n",
    "    dirname=gesture_dict[gesture]\n",
    "    l = len(os.listdir(dirname))\n",
    "    with open(str(l)+\".txt\",'a') as f: #loading most recent model\n",
    "        f.write(data)\n",
    "    \n",
    "    "
   ]
  },
  {
   "cell_type": "code",
   "execution_count": 18,
   "metadata": {},
   "outputs": [],
   "source": [
    "app = win32com.client.Dispatch(\"PowerPoint.Application\")\n",
    "presentation = app.Presentations.Open(FileName=u'C:\\\\Users\\\\PRANJUL\\\\Desktop\\\\FYP\\\\controlling_ppt\\\\test.pptx', ReadOnly=1)\n",
    "presentation.SlideShowSettings.Run()\n",
    "PORT = 7800"
   ]
  },
  {
   "cell_type": "code",
   "execution_count": null,
   "metadata": {},
   "outputs": [],
   "source": [
    "while(True):\n",
    "    with socket.socket(socket.AF_INET, socket.SOCK_STREAM) as s: #creating socket with ipv4 and port\n",
    "        s.bind((socket.gethostname(), PORT))\n",
    "        s.listen(5)\n",
    "        conn, addr = s.accept() #conn having data and addr having ip\n",
    "        with conn:\n",
    "            print('Connected by', addr)\n",
    "            while True:\n",
    "                datatemp = conn.recv(1024) #recieving data\n",
    "                finaldata=datatemp.decode(\"utf-8\") #b to charater utf-8 encoding\n",
    "                print(finaldata)\n",
    "                if not datatemp:\n",
    "                    print(\"no data\")\n",
    "                    break\n",
    "                elif finaldata==\"forward\":\n",
    "                    presentation.SlideShowWindow.View.Next()\n",
    "                elif finaldata==\"backward\":\n",
    "                    presentation.SlideShowWindow.View.Previous()\n",
    "                elif finaldata[0]==\"predicting\":\n",
    "                    predict(finaldata[1])\n",
    "                elif finaldata[0]==\"CaptureData\":\n",
    "                    CaptureData(finaldata[1],finaldata[2:])\n",
    "#                 elif finaldata[0]==\"train\":\n",
    "# #                     trainmodel()\n",
    "                    \n",
    "                    \n",
    "                                            "
   ]
  },
  {
   "cell_type": "code",
   "execution_count": null,
   "metadata": {},
   "outputs": [],
   "source": []
  },
  {
   "cell_type": "code",
   "execution_count": null,
   "metadata": {},
   "outputs": [],
   "source": []
  }
 ],
 "metadata": {
  "kernelspec": {
   "display_name": "Python 3.7.3 64-bit",
   "language": "python",
   "name": "python37364bit4b425903f17049189d9a0ba7edd8a384"
  },
  "language_info": {
   "codemirror_mode": {
    "name": "ipython",
    "version": 3
   },
   "file_extension": ".py",
   "mimetype": "text/x-python",
   "name": "python",
   "nbconvert_exporter": "python",
   "pygments_lexer": "ipython3",
   "version": "3.7.3"
  }
 },
 "nbformat": 4,
 "nbformat_minor": 2
}
